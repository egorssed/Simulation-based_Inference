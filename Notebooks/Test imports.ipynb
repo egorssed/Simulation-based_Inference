{
 "cells": [
  {
   "cell_type": "code",
   "execution_count": 1,
   "id": "c8236f94",
   "metadata": {},
   "outputs": [
    {
     "name": "stdout",
     "output_type": "stream",
     "text": [
      "Init Plugin\n",
      "Init Graph Optimizer\n",
      "Init Kernel\n"
     ]
    },
    {
     "name": "stderr",
     "output_type": "stream",
     "text": [
      "/usr/local/Caskroom/miniforge/base/envs/env_Fermilab/lib/python3.9/site-packages/jax/_src/lib/__init__.py:33: UserWarning: JAX on Mac ARM machines is experimental and minimally tested. Please see https://github.com/google/jax/issues/5501 in the event of problems.\n",
      "  warnings.warn(\"JAX on Mac ARM machines is experimental and minimally tested. \"\n"
     ]
    }
   ],
   "source": [
    "import tensorflow as tf\n",
    "import jax\n",
    "import scipy as sc\n",
    "import numpy as np\n",
    "import matplotlib as mpl\n",
    "import matplotlib.pyplot as plt\n",
    "import sbi\n",
    "import numpyro\n",
    "import corner\n",
    "\n",
    "#fontsize\n",
    "FS=18"
   ]
  },
  {
   "cell_type": "code",
   "execution_count": 2,
   "id": "413eb27e",
   "metadata": {},
   "outputs": [
    {
     "name": "stdout",
     "output_type": "stream",
     "text": [
      "GPU is available\n",
      "tf.Tensor(1, shape=(), dtype=int32)Metal device set to: Apple M1\n",
      "\n"
     ]
    }
   ],
   "source": [
    "gpu = len(tf.config.list_physical_devices('GPU'))>0\n",
    "print(\"GPU is\", \"available\" if gpu else \"NOT AVAILABLE\")\n",
    "print(tf.abs(-1))"
   ]
  },
  {
   "cell_type": "code",
   "execution_count": 3,
   "id": "0a61489d",
   "metadata": {},
   "outputs": [
    {
     "name": "stdout",
     "output_type": "stream",
     "text": [
      "2.0\n"
     ]
    }
   ],
   "source": [
    "@jax.jit\n",
    "def func(x):\n",
    "    return jax.numpy.power(x,2)\n",
    "print(jax.grad(func)(1.))"
   ]
  },
  {
   "cell_type": "code",
   "execution_count": 4,
   "id": "e35d00d0",
   "metadata": {},
   "outputs": [
    {
     "data": {
      "text/plain": "Running 500 simulations.:   0%|          | 0/500 [00:00<?, ?it/s]",
      "application/vnd.jupyter.widget-view+json": {
       "version_major": 2,
       "version_minor": 0,
       "model_id": "ee1c013895284b8297a7dcd05c1e6c1a"
      }
     },
     "metadata": {},
     "output_type": "display_data"
    },
    {
     "name": "stdout",
     "output_type": "stream",
     "text": [
      "Neural network successfully converged after 38 epochs.\n"
     ]
    },
    {
     "data": {
      "text/plain": "Drawing 100 posterior samples:   0%|          | 0/100 [00:00<?, ?it/s]",
      "application/vnd.jupyter.widget-view+json": {
       "version_major": 2,
       "version_minor": 0,
       "model_id": "fdc90410a5714e2fa38f724fb99c799b"
      }
     },
     "metadata": {},
     "output_type": "display_data"
    },
    {
     "name": "stdout",
     "output_type": "stream",
     "text": [
      "Posterior conditional density p(θ|x) (amortized).\n",
      "\n",
      "This DirectPosterior-object was obtained with a SNPE-class method using a flow.\n",
      "It allows to .sample() and .log_prob() the posterior and wraps the output of the .net to avoid leakage into regions with 0 prior probability.\n"
     ]
    }
   ],
   "source": [
    "from sbi.examples.minimal import simple\n",
    "posterior=simple()\n",
    "print(posterior)"
   ]
  },
  {
   "cell_type": "code",
   "execution_count": 5,
   "id": "06e1e9e2",
   "metadata": {},
   "outputs": [
    {
     "data": {
      "text/plain": "'1.8.0'"
     },
     "execution_count": 5,
     "metadata": {},
     "output_type": "execute_result"
    }
   ],
   "source": [
    "sc.__version__"
   ]
  },
  {
   "cell_type": "code",
   "execution_count": 6,
   "id": "beaa479e",
   "metadata": {},
   "outputs": [
    {
     "data": {
      "text/plain": "'1.19.5'"
     },
     "execution_count": 6,
     "metadata": {},
     "output_type": "execute_result"
    }
   ],
   "source": [
    "np.__version__"
   ]
  },
  {
   "cell_type": "code",
   "execution_count": 7,
   "id": "dc909cee",
   "metadata": {},
   "outputs": [
    {
     "data": {
      "text/plain": "[<matplotlib.lines.Line2D at 0x2b85a42b0>]"
     },
     "execution_count": 7,
     "metadata": {},
     "output_type": "execute_result"
    },
    {
     "data": {
      "text/plain": "<Figure size 432x288 with 1 Axes>",
      "image/png": "[encoded data removed]"
     },
     "metadata": {
      "needs_background": "light"
     },
     "output_type": "display_data"
    }
   ],
   "source": [
    "mpl.pyplot.plot([1,2,3],[4,5,6])"
   ]
  },
  {
   "cell_type": "code",
   "execution_count": 8,
   "id": "282f236a",
   "metadata": {},
   "outputs": [
    {
     "name": "stderr",
     "output_type": "stream",
     "text": [
      "sample: 100%|██████████| 1500/1500 [00:01<00:00, 811.13it/s, 15 steps of size 1.58e-01. acc. prob=0.86]\n"
     ]
    }
   ],
   "source": [
    "import numpyro.distributions as dist\n",
    "from jax import random\n",
    "from numpyro.infer import MCMC, NUTS\n",
    "\n",
    "J = 8\n",
    "y = np.array([28.0, 8.0, -3.0, 7.0, -1.0, 1.0, 18.0, 12.0])\n",
    "sigma = np.array([15.0, 10.0, 16.0, 11.0, 9.0, 11.0, 10.0, 18.0])\n",
    "\n",
    "# Eight Schools example\n",
    "def eight_schools(J, sigma, y=None):\n",
    "    mu = numpyro.sample('mu', dist.Normal(0, 5))\n",
    "    tau = numpyro.sample('tau', dist.HalfCauchy(5))\n",
    "    with numpyro.plate('J', J):\n",
    "        theta = numpyro.sample('theta', dist.Normal(mu, tau))\n",
    "        numpyro.sample('obs', dist.Normal(theta, sigma), obs=y)\n",
    "        \n",
    "nuts_kernel = NUTS(eight_schools)\n",
    "mcmc = MCMC(nuts_kernel, num_warmup=500, num_samples=1000)\n",
    "rng_key = random.PRNGKey(0)\n",
    "mcmc.run(rng_key, J, sigma, y=y, extra_fields=('potential_energy',))"
   ]
  },
  {
   "cell_type": "code",
   "execution_count": 9,
   "id": "acb80a6d",
   "metadata": {},
   "outputs": [
    {
     "name": "stdout",
     "output_type": "stream",
     "text": [
      "\n",
      "                mean       std    median      5.0%     95.0%     n_eff     r_hat\n",
      "        mu      4.28      3.04      4.25      0.03      9.80    158.41      1.00\n",
      "       tau      3.86      2.84      3.05      0.61      7.92     88.13      1.05\n",
      "  theta[0]      5.99      5.40      5.65     -2.71     13.99    241.25      1.02\n",
      "  theta[1]      4.77      4.61      4.50     -3.08     11.74    255.97      1.00\n",
      "  theta[2]      3.76      5.11      3.90     -4.06     11.57    309.05      1.00\n",
      "  theta[3]      4.77      4.77      4.60     -2.43     12.06    342.46      1.01\n",
      "  theta[4]      3.26      4.46      3.33     -3.94     10.01    313.35      1.00\n",
      "  theta[5]      3.88      4.72      4.04     -3.48     11.06    365.47      1.00\n",
      "  theta[6]      6.29      4.95      5.86     -0.69     14.85    190.26      1.03\n",
      "  theta[7]      4.80      4.78      4.53     -2.75     12.19    322.84      1.00\n",
      "\n",
      "Number of divergences: 34\n"
     ]
    }
   ],
   "source": [
    "mcmc.print_summary()"
   ]
  },
  {
   "cell_type": "code",
   "execution_count": 10,
   "id": "99623ca1",
   "metadata": {},
   "outputs": [
    {
     "name": "stdout",
     "output_type": "stream",
     "text": [
      "Expected log joint density: -54.68\n"
     ]
    }
   ],
   "source": [
    "pe = mcmc.get_extra_fields()['potential_energy']\n",
    "print('Expected log joint density: {:.2f}'.format(np.mean(-pe)))"
   ]
  },
  {
   "cell_type": "code",
   "execution_count": 11,
   "outputs": [],
   "source": [
    "samples_mcmc=mcmc.get_samples()"
   ],
   "metadata": {
    "collapsed": false,
    "pycharm": {
     "name": "#%%\n"
    }
   }
  },
  {
   "cell_type": "code",
   "execution_count": 13,
   "outputs": [
    {
     "data": {
      "text/plain": "<matplotlib.legend.Legend at 0x2b99af400>"
     },
     "execution_count": 13,
     "metadata": {},
     "output_type": "execute_result"
    },
    {
     "data": {
      "text/plain": "<Figure size 432x288 with 1 Axes>",
      "image/png": "[encoded data removed]"
     },
     "metadata": {
      "needs_background": "light"
     },
     "output_type": "display_data"
    }
   ],
   "source": [
    "extra_fields=mcmc.get_extra_fields()\n",
    "\n",
    "\n",
    "plt.title(\"energy terms\", fontsize=FS)\n",
    "plt.plot(extra_fields['potential_energy'], label=\"potential\", alpha=0.5)\n",
    "plt.legend()\n"
   ],
   "metadata": {
    "collapsed": false,
    "pycharm": {
     "name": "#%%\n"
    }
   }
  }
 ],
 "metadata": {
  "kernelspec": {
   "display_name": "Python 3 (ipykernel)",
   "language": "python",
   "name": "python3"
  },
  "language_info": {
   "codemirror_mode": {
    "name": "ipython",
    "version": 3
   },
   "file_extension": ".py",
   "mimetype": "text/x-python",
   "name": "python",
   "nbconvert_exporter": "python",
   "pygments_lexer": "ipython3",
   "version": "3.9.10"
  }
 },
 "nbformat": 4,
 "nbformat_minor": 5
}