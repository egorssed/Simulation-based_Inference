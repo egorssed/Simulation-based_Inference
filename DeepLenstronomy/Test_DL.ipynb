{
 "cells": [
  {
   "cell_type": "code",
   "execution_count": 9,
   "metadata": {
    "collapsed": true
   },
   "outputs": [],
   "source": [
    "import deeplenstronomy.deeplenstronomy as dl\n",
    "import numpy,pandas\n",
    "import matplotlib.pyplot as plt"
   ]
  },
  {
   "cell_type": "code",
   "execution_count": 4,
   "outputs": [],
   "source": [
    "config_file = 'data/demo.yaml'"
   ],
   "metadata": {
    "collapsed": false,
    "pycharm": {
     "name": "#%%\n"
    }
   }
  },
  {
   "cell_type": "code",
   "execution_count": 5,
   "outputs": [],
   "source": [
    "dataset=dl.make_dataset(config_file)"
   ],
   "metadata": {
    "collapsed": false,
    "pycharm": {
     "name": "#%%\n"
    }
   }
  },
  {
   "cell_type": "code",
   "execution_count": 6,
   "outputs": [
    {
     "name": "stdout",
     "output_type": "stream",
     "text": [
      "['CONFIGURATION_1', 'CONFIGURATION_2', 'CONFIGURATION_3', 'CONFIGURATION_4']\n"
     ]
    }
   ],
   "source": [
    "print(dataset.configurations)\n"
   ],
   "metadata": {
    "collapsed": false,
    "pycharm": {
     "name": "#%%\n"
    }
   }
  },
  {
   "cell_type": "code",
   "execution_count": 7,
   "outputs": [
    {
     "name": "stdout",
     "output_type": "stream",
     "text": [
      "CONFIGURATION_1_images\n",
      "CONFIGURATION_1_metadata\n",
      "CONFIGURATION_2_images\n",
      "CONFIGURATION_2_metadata\n",
      "CONFIGURATION_3_images\n",
      "CONFIGURATION_3_metadata\n",
      "CONFIGURATION_4_images\n",
      "CONFIGURATION_4_metadata\n"
     ]
    }
   ],
   "source": [
    "for item in [x for x in dir(dataset) if x[0:13] == 'CONFIGURATION']:\n",
    "    print(item)\n"
   ],
   "metadata": {
    "collapsed": false,
    "pycharm": {
     "name": "#%%\n"
    }
   }
  },
  {
   "cell_type": "code",
   "execution_count": 8,
   "outputs": [
    {
     "name": "stdout",
     "output_type": "stream",
     "text": [
      "<class 'numpy.ndarray'>\n",
      "<class 'pandas.core.frame.DataFrame'>\n"
     ]
    }
   ],
   "source": [
    "print(type(dataset.CONFIGURATION_1_images))\n",
    "print(type(dataset.CONFIGURATION_1_metadata))\n"
   ],
   "metadata": {
    "collapsed": false,
    "pycharm": {
     "name": "#%%\n"
    }
   }
  },
  {
   "cell_type": "code",
   "execution_count": 10,
   "outputs": [
    {
     "name": "stdout",
     "output_type": "stream",
     "text": [
      "(24, 5, 100, 100)\n"
     ]
    }
   ],
   "source": [
    "print(dataset.CONFIGURATION_1_images.shape)\n"
   ],
   "metadata": {
    "collapsed": false,
    "pycharm": {
     "name": "#%%\n"
    }
   }
  },
  {
   "cell_type": "code",
   "execution_count": 12,
   "outputs": [],
   "source": [
    "from deeplenstronomy.visualize import view_image"
   ],
   "metadata": {
    "collapsed": false,
    "pycharm": {
     "name": "#%%\n"
    }
   }
  },
  {
   "cell_type": "code",
   "execution_count": 18,
   "outputs": [
    {
     "data": {
      "text/plain": "<Figure size 432x288 with 1 Axes>",
      "image/png": "[encoded data removed]"
     },
     "metadata": {},
     "output_type": "display_data"
    }
   ],
   "source": [
    "view_image(dataset.CONFIGURATION_1_images[2][1])"
   ],
   "metadata": {
    "collapsed": false,
    "pycharm": {
     "name": "#%%\n"
    }
   }
  },
  {
   "cell_type": "code",
   "execution_count": 24,
   "outputs": [
    {
     "data": {
      "text/plain": "<Figure size 432x288 with 1 Axes>",
      "image/png": "[encoded data removed]"
     },
     "metadata": {},
     "output_type": "display_data"
    }
   ],
   "source": [
    "view_image(dataset.CONFIGURATION_1_images[12][1])"
   ],
   "metadata": {
    "collapsed": false,
    "pycharm": {
     "name": "#%%\n"
    }
   }
  },
  {
   "cell_type": "code",
   "execution_count": 17,
   "outputs": [
    {
     "data": {
      "text/plain": "<Figure size 432x288 with 5 Axes>",
      "image/png": "[encoded data removed]"
     },
     "metadata": {},
     "output_type": "display_data"
    }
   ],
   "source": [
    "view_image(dataset.CONFIGURATION_1_images[2])"
   ],
   "metadata": {
    "collapsed": false,
    "pycharm": {
     "name": "#%%\n"
    }
   }
  },
  {
   "cell_type": "code",
   "execution_count": 16,
   "outputs": [
    {
     "data": {
      "text/plain": "   OBJID-g  H0-g  Om0-g  exposure_time-g  numPix-g  pixel_scale-g psf_type-g  \\\n0        1    70    0.3               90       100          0.263   GAUSSIAN   \n1        2    70    0.3               90       100          0.263   GAUSSIAN   \n2        3    70    0.3               90       100          0.263   GAUSSIAN   \n3        4    70    0.3               90       100          0.263   GAUSSIAN   \n4        5    70    0.3               90       100          0.263   GAUSSIAN   \n\n   read_noise-g  ccd_gain-g  seeing-g  ...  PLANE_1-REDSHIFT-g  \\\n0             7       6.083       0.9  ...                 0.2   \n1             7       6.083       0.9  ...                 0.2   \n2             7       6.083       0.9  ...                 0.2   \n3             7       6.083       0.9  ...                 0.2   \n4             7       6.083       0.9  ...                 0.2   \n\n   PLANE_2-REDSHIFT-g  PLANE_1-REDSHIFT-r  PLANE_2-REDSHIFT-r  \\\n0                 0.7                 0.2                 0.7   \n1                 0.7                 0.2                 0.7   \n2                 0.7                 0.2                 0.7   \n3                 0.7                 0.2                 0.7   \n4                 0.7                 0.2                 0.7   \n\n  PLANE_1-REDSHIFT-i  PLANE_2-REDSHIFT-i PLANE_1-REDSHIFT-z  \\\n0                0.2                 0.7                0.2   \n1                0.2                 0.7                0.2   \n2                0.2                 0.7                0.2   \n3                0.2                 0.7                0.2   \n4                0.2                 0.7                0.2   \n\n  PLANE_2-REDSHIFT-z  PLANE_1-REDSHIFT-Y  PLANE_2-REDSHIFT-Y  \n0                0.7                 0.2                 0.7  \n1                0.7                 0.2                 0.7  \n2                0.7                 0.2                 0.7  \n3                0.7                 0.2                 0.7  \n4                0.7                 0.2                 0.7  \n\n[5 rows x 445 columns]",
      "text/html": "<div>\n<style scoped>\n    .dataframe tbody tr th:only-of-type {\n        vertical-align: middle;\n    }\n\n    .dataframe tbody tr th {\n        vertical-align: top;\n    }\n\n    .dataframe thead th {\n        text-align: right;\n    }\n</style>\n<table border=\"1\" class=\"dataframe\">\n  <thead>\n    <tr style=\"text-align: right;\">\n      <th></th>\n      <th>OBJID-g</th>\n      <th>H0-g</th>\n      <th>Om0-g</th>\n      <th>exposure_time-g</th>\n      <th>numPix-g</th>\n      <th>pixel_scale-g</th>\n      <th>psf_type-g</th>\n      <th>read_noise-g</th>\n      <th>ccd_gain-g</th>\n      <th>seeing-g</th>\n      <th>...</th>\n      <th>PLANE_1-REDSHIFT-g</th>\n      <th>PLANE_2-REDSHIFT-g</th>\n      <th>PLANE_1-REDSHIFT-r</th>\n      <th>PLANE_2-REDSHIFT-r</th>\n      <th>PLANE_1-REDSHIFT-i</th>\n      <th>PLANE_2-REDSHIFT-i</th>\n      <th>PLANE_1-REDSHIFT-z</th>\n      <th>PLANE_2-REDSHIFT-z</th>\n      <th>PLANE_1-REDSHIFT-Y</th>\n      <th>PLANE_2-REDSHIFT-Y</th>\n    </tr>\n  </thead>\n  <tbody>\n    <tr>\n      <th>0</th>\n      <td>1</td>\n      <td>70</td>\n      <td>0.3</td>\n      <td>90</td>\n      <td>100</td>\n      <td>0.263</td>\n      <td>GAUSSIAN</td>\n      <td>7</td>\n      <td>6.083</td>\n      <td>0.9</td>\n      <td>...</td>\n      <td>0.2</td>\n      <td>0.7</td>\n      <td>0.2</td>\n      <td>0.7</td>\n      <td>0.2</td>\n      <td>0.7</td>\n      <td>0.2</td>\n      <td>0.7</td>\n      <td>0.2</td>\n      <td>0.7</td>\n    </tr>\n    <tr>\n      <th>1</th>\n      <td>2</td>\n      <td>70</td>\n      <td>0.3</td>\n      <td>90</td>\n      <td>100</td>\n      <td>0.263</td>\n      <td>GAUSSIAN</td>\n      <td>7</td>\n      <td>6.083</td>\n      <td>0.9</td>\n      <td>...</td>\n      <td>0.2</td>\n      <td>0.7</td>\n      <td>0.2</td>\n      <td>0.7</td>\n      <td>0.2</td>\n      <td>0.7</td>\n      <td>0.2</td>\n      <td>0.7</td>\n      <td>0.2</td>\n      <td>0.7</td>\n    </tr>\n    <tr>\n      <th>2</th>\n      <td>3</td>\n      <td>70</td>\n      <td>0.3</td>\n      <td>90</td>\n      <td>100</td>\n      <td>0.263</td>\n      <td>GAUSSIAN</td>\n      <td>7</td>\n      <td>6.083</td>\n      <td>0.9</td>\n      <td>...</td>\n      <td>0.2</td>\n      <td>0.7</td>\n      <td>0.2</td>\n      <td>0.7</td>\n      <td>0.2</td>\n      <td>0.7</td>\n      <td>0.2</td>\n      <td>0.7</td>\n      <td>0.2</td>\n      <td>0.7</td>\n    </tr>\n    <tr>\n      <th>3</th>\n      <td>4</td>\n      <td>70</td>\n      <td>0.3</td>\n      <td>90</td>\n      <td>100</td>\n      <td>0.263</td>\n      <td>GAUSSIAN</td>\n      <td>7</td>\n      <td>6.083</td>\n      <td>0.9</td>\n      <td>...</td>\n      <td>0.2</td>\n      <td>0.7</td>\n      <td>0.2</td>\n      <td>0.7</td>\n      <td>0.2</td>\n      <td>0.7</td>\n      <td>0.2</td>\n      <td>0.7</td>\n      <td>0.2</td>\n      <td>0.7</td>\n    </tr>\n    <tr>\n      <th>4</th>\n      <td>5</td>\n      <td>70</td>\n      <td>0.3</td>\n      <td>90</td>\n      <td>100</td>\n      <td>0.263</td>\n      <td>GAUSSIAN</td>\n      <td>7</td>\n      <td>6.083</td>\n      <td>0.9</td>\n      <td>...</td>\n      <td>0.2</td>\n      <td>0.7</td>\n      <td>0.2</td>\n      <td>0.7</td>\n      <td>0.2</td>\n      <td>0.7</td>\n      <td>0.2</td>\n      <td>0.7</td>\n      <td>0.2</td>\n      <td>0.7</td>\n    </tr>\n  </tbody>\n</table>\n<p>5 rows × 445 columns</p>\n</div>"
     },
     "execution_count": 16,
     "metadata": {},
     "output_type": "execute_result"
    }
   ],
   "source": [
    "dataset.CONFIGURATION_1_metadata.iloc[0:5]"
   ],
   "metadata": {
    "collapsed": false,
    "pycharm": {
     "name": "#%%\n"
    }
   }
  },
  {
   "cell_type": "code",
   "execution_count": null,
   "outputs": [],
   "source": [],
   "metadata": {
    "collapsed": false,
    "pycharm": {
     "name": "#%%\n"
    }
   }
  }
 ],
 "metadata": {
  "kernelspec": {
   "display_name": "Python 3",
   "language": "python",
   "name": "python3"
  },
  "language_info": {
   "codemirror_mode": {
    "name": "ipython",
    "version": 2
   },
   "file_extension": ".py",
   "mimetype": "text/x-python",
   "name": "python",
   "nbconvert_exporter": "python",
   "pygments_lexer": "ipython2",
   "version": "2.7.6"
  }
 },
 "nbformat": 4,
 "nbformat_minor": 0
}